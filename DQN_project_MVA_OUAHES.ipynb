{
 "cells": [
  {
   "cell_type": "markdown",
   "metadata": {},
   "source": [
    "**You may need to install [OpenCV](https://pypi.python.org/pypi/opencv-python) and [scikit-video](http://www.scikit-video.org/stable/).**"
   ]
  },
  {
   "cell_type": "code",
   "execution_count": 25,
   "metadata": {},
   "outputs": [],
   "source": [
    "import ffmpeg"
   ]
  },
  {
   "cell_type": "code",
   "execution_count": 26,
   "metadata": {},
   "outputs": [],
   "source": [
    "import keras\n",
    "import numpy as np\n",
    "import io\n",
    "import base64\n",
    "from IPython.display import HTML\n",
    "import skvideo.io\n",
    "import cv2\n",
    "import json\n",
    "\n",
    "from keras.models import Sequential,model_from_json\n",
    "from keras.layers.core import Dense\n",
    "from keras.optimizers import sgd\n",
    "from keras.layers import Conv2D, MaxPooling2D, Activation, AveragePooling2D,Reshape,BatchNormalization,Flatten"
   ]
  },
  {
   "cell_type": "markdown",
   "metadata": {},
   "source": [
    "# Deep Reinforcement Learning"
   ]
  },
  {
   "cell_type": "markdown",
   "metadata": {},
   "source": [
    "__Notations__: $E_p$ is the expectation under probability $p$. Please justify each of your answer and widely comment your code."
   ]
  },
  {
   "cell_type": "markdown",
   "metadata": {},
   "source": [
    "# Context"
   ]
  },
  {
   "cell_type": "markdown",
   "metadata": {},
   "source": [
    "In a reinforcement learning algorithm, we modelize each step $t$ as an action $a_t$ obtained from a state $s_t$, i.e. $\\{(a_{t},s_{t})_{t\\leq T}\\}$ having the Markov property. We consider a discount factor $\\gamma \\in [0,1]$ that ensures convergence. The goal is to find among all the policies $\\pi$, one that maximizes the expected reward:\n",
    "\n",
    "\\begin{equation*}\n",
    "R(\\pi)=\\sum_{t\\leq T}E_{p^{\\pi}}[\\gamma^t r(s_{t},a_{t})] \\> ,\n",
    "\\end{equation*}\n",
    "\n",
    "where: \n",
    "\\begin{equation*}p^{\\pi}(a_{0},a_{1},s_{1},...,a_{T},s_{T})=p(a_{0})\\prod_{t=1}^{T}\\pi(a_{t}|s_{t})p(s_{t+1}|s_{t},a_{t}) \\> .\n",
    "\\end{equation*}\n",
    "\n",
    "We note the $Q$-function:\n",
    "\n",
    "\\begin{equation*}Q^\\pi(s,a)=E_{p^{\\pi}}[\\sum_{t\\leq T}\\gamma^{t}r(s_{t},a_{t})|s_{0}=s,a_{0}=a] \\> .\n",
    "\\end{equation*}\n",
    "\n",
    "Thus, the optimal Q function is:\n",
    "\\begin{equation*}\n",
    "Q^*(s,a)=\\max_{\\pi}Q^\\pi(s,a) \\> .\n",
    "\\end{equation*}\n",
    "\n",
    "In this project, we will apply the deep reinforcement learning techniques to a simple game: an agent will have to learn from scratch a policy that will permit it maximizing a reward."
   ]
  },
  {
   "cell_type": "markdown",
   "metadata": {},
   "source": [
    "## The environment, the agent and the game"
   ]
  },
  {
   "cell_type": "markdown",
   "metadata": {},
   "source": [
    "### The environment"
   ]
  },
  {
   "cell_type": "markdown",
   "metadata": {},
   "source": [
    "```Environment``` is an abstract class that represents the states, rewards, and actions to obtain the new state."
   ]
  },
  {
   "cell_type": "code",
   "execution_count": 27,
   "metadata": {},
   "outputs": [],
   "source": [
    "class Environment(object):\n",
    "    def __init__(self):\n",
    "        pass\n",
    "\n",
    "    def act(self, act):\n",
    "        \"\"\"\n",
    "        One can act on the environment and obtain its reaction:\n",
    "        - the new state\n",
    "        - the reward of the new state\n",
    "        - should we continue the game?\n",
    "\n",
    "        :return: state, reward, game_over\n",
    "        \"\"\"\n",
    "        pass\n",
    "\n",
    "\n",
    "    def reset(self):\n",
    "        \"\"\"\n",
    "        Reinitialize the environment to a random state and returns\n",
    "        the original state\n",
    "\n",
    "        :return: state\n",
    "        \"\"\"\n",
    "        pass\n",
    "    \n",
    "    def draw(self):\n",
    "        \"\"\"\n",
    "        Visualize in the console or graphically the current state\n",
    "        \"\"\"\n",
    "        pass"
   ]
  },
  {
   "cell_type": "markdown",
   "metadata": {},
   "source": [
    "The method ```act``` allows to act on the environment at a given state $s_t$ (stored internally), via action $a_t$. The method will return the new state $s_{t+1}$, the reward $r(s_{t},a_{t})$ and determines if $t\\leq T$ (*game_over*).\n",
    "\n",
    "The method ```reset``` simply reinitializes the environment to a random state $s_0$.\n",
    "\n",
    "The method ```draw``` displays the current state $s_t$ (this is useful to check the behavior of the Agent).\n",
    "\n",
    "We modelize $s_t$ as a tensor, while $a_t$ is an integer."
   ]
  },
  {
   "cell_type": "markdown",
   "metadata": {},
   "source": [
    "### The Agent"
   ]
  },
  {
   "cell_type": "markdown",
   "metadata": {},
   "source": [
    "The goal of the ```Agent``` is to interact with the ```Environment``` by proposing actions $a_t$ obtained from a given state $s_t$ to attempt to maximize its __reward__ $r(s_t,a_t)$. "
   ]
  },
  {
   "cell_type": "code",
   "execution_count": 28,
   "metadata": {},
   "outputs": [],
   "source": [
    "class Agent(object):\n",
    "    def __init__(self, epsilon=0.1, n_action=4):\n",
    "        self.epsilon = epsilon\n",
    "        self.n_action = n_action\n",
    "    \n",
    "    def set_epsilon(self,e):\n",
    "        self.epsilon = e\n",
    "    \n",
    "    def get_epsilon(self):\n",
    "        return self.epsilon\n",
    "\n",
    "    def act(self,s,train=True):\n",
    "        \"\"\" This function should return the next action to do:\n",
    "        an integer between 0 and 4 (not included) with a random exploration of epsilon\"\"\"\n",
    "        if train:\n",
    "            if np.random.rand() <= self.epsilon:\n",
    "                a = np.random.randint(0, self.n_action, size=1)[0]\n",
    "            else:\n",
    "                a = self.learned_act(s)\n",
    "        else: # in some cases, this can improve the performance.. remove it if poor performances\n",
    "            a = self.learned_act(s)\n",
    "\n",
    "        return a\n",
    "\n",
    "    def learned_act(self,s):\n",
    "        \"\"\" Act via the policy of the agent, from a given state s\n",
    "        it proposes an action a\"\"\"\n",
    "        pass\n",
    "\n",
    "    def reinforce(self, s, n_s, a, r, game_over_):\n",
    "        \"\"\" This function is the core of the learning algorithm. \n",
    "        It takes as an input the current state s_, the next state n_s_\n",
    "        the action a_ used to move from s_ to n_s_ and the reward r_.\n",
    "        \n",
    "        Its goal is to learn a policy.\n",
    "        \"\"\"\n",
    "        pass\n",
    "\n",
    "    def save(self):\n",
    "        \"\"\" This function returns basic stats if applicable: the\n",
    "        loss and/or the model\n",
    "        sauvegarder dans un fichier json \"\"\"\n",
    "        pass\n",
    "\n",
    "    def load(self):\n",
    "        \"\"\" This function allows to restore a model\"\"\"\n",
    "        pass\n",
    "    "
   ]
  },
  {
   "cell_type": "markdown",
   "metadata": {},
   "source": [
    "***\n",
    "Why is ```epsilon``` essential?"
   ]
  },
  {
   "cell_type": "markdown",
   "metadata": {},
   "source": [
    "Our agent will randomly select its action at first by a certain percentage, called ‘exploration rate’ that we call ‘epsilon’. It is essential for the agent to try all kinds of actions before it starts to see the patterns. When it is not deciding the action randomly, the agent will predict the reward value based on the current state and pick the action that will give the highest reward.\n",
    "Here we have to implement a new function learning rate overriting this one to start the learning(exploitation) after exploration."
   ]
  },
  {
   "cell_type": "markdown",
   "metadata": {},
   "source": [
    "***\n",
    "### The Game"
   ]
  },
  {
   "cell_type": "markdown",
   "metadata": {},
   "source": [
    "The ```Agent``` and the ```Environment``` work in an interlaced way as in the following \n",
    "\n",
    "```python\n",
    "\n",
    "epoch = 300\n",
    "env = Environment()\n",
    "agent = Agent()\n",
    "\n",
    "\n",
    "# Number of won games\n",
    "score = 0\n",
    "loss = 0\n",
    "\n",
    "\n",
    "for e in range(epoch):\n",
    "    # At each epoch, we restart to a fresh game and get the initial state\n",
    "    state = env.reset()\n",
    "    # This assumes that the games will end\n",
    "    game_over = False\n",
    "\n",
    "    win = 0\n",
    "    lose = 0\n",
    "    \n",
    "    while not game_over:\n",
    "        # The agent performs an action\n",
    "        #using method act of agent\n",
    "        action = agent.act(state)\n",
    "\n",
    "        # Apply an action to the environment, get the next state, the reward\n",
    "        # and if the games end\n",
    "        #keep the previous state\n",
    "        prev_state = state\n",
    "        state, reward, game_over = env.act(action)\n",
    "\n",
    "        # Update the counters\n",
    "        if reward > 0:\n",
    "            win = win + reward\n",
    "        if reward < 0:\n",
    "            lose = lose -reward\n",
    "\n",
    "        # Apply the reinforcement strategy\n",
    "        #mise à jour des connaissances et de l'apprentissage\n",
    "        #weight du reseau de neuronnes?\n",
    "        loss = agent.reinforce(prev_state, state,  action, reward, game_over)\n",
    "\n",
    "    # Save as a mp4\n",
    "    if e % 10 == 0:\n",
    "        env.draw(e)\n",
    "\n",
    "    # Update stats\n",
    "    score += win-lose\n",
    "\n",
    "    print(\"Epoch {:03d}/{:03d} | Loss {:.4f} | Win/lose count {}/{} ({})\"\n",
    "          .format(e, epoch, loss, win, lose, win-lose))\n",
    "    agent.save()\n",
    "```"
   ]
  },
  {
   "cell_type": "markdown",
   "metadata": {},
   "source": [
    "# The game, *eat cheese*"
   ]
  },
  {
   "cell_type": "markdown",
   "metadata": {},
   "source": [
    "A rat runs on an island and tries to eat as much as possible. The island is subdivided into $N\\times N$ cells, in which there are cheese (+0.5) and poisonous cells (-1). The rat has a visibility of 2 cells (thus it can see $5^2$ cells). The rat is given a time $T$ to accumulate as much food as possible. It can perform 4 actions: going up, down, left, right. \n",
    "\n",
    "The goal is to code an agent to solve this task that will learn by trial and error. We propose the following environment:"
   ]
  },
  {
   "cell_type": "code",
   "execution_count": 29,
   "metadata": {},
   "outputs": [],
   "source": [
    "b = np.zeros((10, 10,3))+128"
   ]
  },
  {
   "cell_type": "code",
   "execution_count": 30,
   "metadata": {},
   "outputs": [],
   "source": [
    "board = np.zeros((10,10))\n",
    "board[1][4]=1"
   ]
  },
  {
   "cell_type": "code",
   "execution_count": 31,
   "metadata": {},
   "outputs": [
    {
     "data": {
      "text/plain": [
       "array([128.])"
      ]
     },
     "execution_count": 31,
     "metadata": {},
     "output_type": "execute_result"
    }
   ],
   "source": [
    "b[board>0, 2]"
   ]
  },
  {
   "cell_type": "code",
   "execution_count": 32,
   "metadata": {},
   "outputs": [],
   "source": [
    "b[board>0,0] = 256\n",
    "b[board < 0, 2] = 256"
   ]
  },
  {
   "cell_type": "code",
   "execution_count": 33,
   "metadata": {},
   "outputs": [
    {
     "data": {
      "text/plain": [
       "array([[0., 0., 0., 0., 0., 0., 0., 0., 0., 0.],\n",
       "       [0., 0., 0., 0., 1., 0., 0., 0., 0., 0.],\n",
       "       [0., 0., 0., 0., 0., 0., 0., 0., 0., 0.],\n",
       "       [0., 0., 0., 0., 0., 0., 0., 0., 0., 0.],\n",
       "       [0., 0., 0., 0., 0., 0., 0., 0., 0., 0.],\n",
       "       [0., 0., 0., 0., 0., 0., 0., 0., 0., 0.],\n",
       "       [0., 0., 0., 0., 0., 0., 0., 0., 0., 0.],\n",
       "       [0., 0., 0., 0., 0., 0., 0., 0., 0., 0.],\n",
       "       [0., 0., 0., 0., 0., 0., 0., 0., 0., 0.],\n",
       "       [0., 0., 0., 0., 0., 0., 0., 0., 0., 0.]])"
      ]
     },
     "execution_count": 33,
     "metadata": {},
     "output_type": "execute_result"
    }
   ],
   "source": [
    "board"
   ]
  },
  {
   "cell_type": "code",
   "execution_count": 34,
   "metadata": {},
   "outputs": [],
   "source": [
    "#b[-2:,:,:]=0\n"
   ]
  },
  {
   "cell_type": "code",
   "execution_count": 35,
   "metadata": {},
   "outputs": [],
   "source": [
    "b[:,-2:,:]=0\n",
    "b[:2,:,:]=0\n",
    "b[:,:2,:]=0\n",
    "#b"
   ]
  },
  {
   "cell_type": "code",
   "execution_count": 36,
   "metadata": {},
   "outputs": [],
   "source": [
    "class Environment(object):\n",
    "    def __init__(self, grid_size=10, max_time=500, temperature=0.1):\n",
    "        grid_size = grid_size+4 #increasing plateau of 2 cells\n",
    "        self.grid_size = grid_size\n",
    "        self.max_time = max_time\n",
    "        self.temperature = temperature\n",
    "\n",
    "        self.board = np.zeros((grid_size,grid_size))\n",
    "        #position eau et position du rat\n",
    "        self.position = np.zeros((grid_size,grid_size))\n",
    "\n",
    "        # coordinate of the cat\n",
    "        self.x = 0\n",
    "        self.y = 1\n",
    "\n",
    "        # self time\n",
    "        self.t = 0\n",
    "        #for screening\n",
    "        self.scale=16\n",
    "\n",
    "        self.to_draw = np.zeros((max_time+2, grid_size*self.scale, grid_size*self.scale, 3))\n",
    "\n",
    "\n",
    "    def draw(self,e):\n",
    "        skvideo.io.vwrite(str(e) + '.mp4', self.to_draw)\n",
    "\n",
    "    def get_frame(self,t):\n",
    "        b = np.zeros((self.grid_size,self.grid_size,3))+128\n",
    "        b[self.board>0, 0] = 256\n",
    "        b[self.board < 0, 2] = 256\n",
    "        b[self.x,self.y,:]=256\n",
    "        b[-2:,:,:]=0\n",
    "        b[:,-2:,:]=0\n",
    "        b[:2,:,:]=0\n",
    "        b[:,:2,:]=0\n",
    "        \n",
    "        b =  cv2.resize(b, None, fx=self.scale, fy=self.scale, interpolation=cv2.INTER_NEAREST)\n",
    "\n",
    "        self.to_draw[t,:,:,:]=b\n",
    "\n",
    "\n",
    "    def act(self, action, train=False):\n",
    "        \"\"\"This function returns the new state, reward and decides if the\n",
    "        game ends.\n",
    "        l'environnement recoit l'action et se modifie\"\"\"\n",
    "\n",
    "        self.get_frame(int(self.t))\n",
    "        \n",
    "        #reinitialisation de la position du rat à chaque partie mais pas le bord\n",
    "        self.position = np.zeros((self.grid_size, self.grid_size))\n",
    "        \n",
    "        #eau autour du board d'action\n",
    "        self.position[0:2,:]= -1\n",
    "        self.position[:,0:2] = -1\n",
    "        self.position[-2:, :] = -1\n",
    "        self.position[:, -2:] = -1\n",
    "\n",
    "        self.position[self.x, self.y] = 1\n",
    "        #differentes positions possibles\n",
    "        if action == 0:\n",
    "            if self.x == self.grid_size-3:\n",
    "                self.x = self.x-1\n",
    "            else:\n",
    "                self.x = self.x + 1\n",
    "        elif action == 1:\n",
    "            if self.x == 2:\n",
    "                self.x = self.x+1\n",
    "            else:\n",
    "                self.x = self.x-1\n",
    "        elif action == 2:\n",
    "            if self.y == self.grid_size - 3:\n",
    "                self.y = self.y - 1\n",
    "            else:\n",
    "                self.y = self.y + 1\n",
    "        elif action == 3:\n",
    "            if self.y == 2:\n",
    "                self.y = self.y + 1\n",
    "            else:\n",
    "                self.y = self.y - 1\n",
    "        else:\n",
    "            RuntimeError('Error: action not recognized')\n",
    "\n",
    "        self.t = self.t + 1\n",
    "        reward = self.board[self.x, self.y]\n",
    "        self.board[self.x, self.y] = 0\n",
    "        game_over = self.t > self.max_time\n",
    "        \n",
    "        #input for the neural network\n",
    "        #creation tuple ==> stock position and board\n",
    "        state = np.concatenate((self.board.reshape(self.grid_size, self.grid_size,1),\n",
    "                        self.position.reshape(self.grid_size, self.grid_size,1)),axis=2)\n",
    "        #take only the environment of the rat (everything the rat can see)\n",
    "        state = state[self.x-2:self.x+3,self.y-2:self.y+3,:]\n",
    "\n",
    "        return state, reward, game_over\n",
    "\n",
    "    def reset(self):\n",
    "        \"\"\"This function resets the game and returns the initial state\"\"\"\n",
    "        #generation de la position du rat à au moins 3 cases de l'eau\n",
    "        self.x = np.random.randint(3, self.grid_size-3, size=1)[0]\n",
    "        self.y = np.random.randint(3, self.grid_size-3, size=1)[0]\n",
    "\n",
    "        #bonus for creation of board\n",
    "        #distribution malus and bonus==> cheese and poison with binomial distribution with temperature 0.5\n",
    "        bonus = 0.5*np.random.binomial(1,self.temperature,size=self.grid_size**2)\n",
    "        bonus = bonus.reshape(self.grid_size,self.grid_size)\n",
    "\n",
    "        malus = -1.0*np.random.binomial(1,self.temperature,size=self.grid_size**2)\n",
    "        malus = malus.reshape(self.grid_size, self.grid_size)\n",
    "\n",
    "        self.to_draw = np.zeros((self.max_time+2, self.grid_size*self.scale, self.grid_size*self.scale, 3))\n",
    "\n",
    "        #cas où on aurait -0.5 , cheese preponderant\n",
    "        malus[bonus>0]=0\n",
    "\n",
    "        self.board = bonus + malus\n",
    "\n",
    "        self.position = np.zeros((self.grid_size, self.grid_size))\n",
    "        self.position[0:2,:]= -1\n",
    "        self.position[:,0:2] = -1\n",
    "        self.position[-2:,:] = -1\n",
    "        self.position[:,-2:] = -1\n",
    "        self.board[self.x,self.y] = 0\n",
    "        self.t = 0\n",
    "\n",
    "        state = np.concatenate((\n",
    "                               self.board.reshape(self.grid_size, self.grid_size,1),\n",
    "                        self.position.reshape(self.grid_size, self.grid_size,1)),axis=2)\n",
    "\n",
    "        state = state[self.x - 2:self.x + 3, self.y - 2:self.y + 3, :]\n",
    "        return state"
   ]
  },
  {
   "cell_type": "markdown",
   "metadata": {},
   "source": [
    "The following elements are important because they correspond to the hyper parameters for this project:"
   ]
  },
  {
   "cell_type": "code",
   "execution_count": 37,
   "metadata": {},
   "outputs": [],
   "source": [
    "# parameters\n",
    "size = 13\n",
    "T=200\n",
    "temperature=0.3\n",
    "epochs_train=21 # set small when debugging\n",
    "epochs_test=21 # set small when debugging\n",
    "\n",
    "# display videos\n",
    "def display_videos(name):\n",
    "    video = io.open(name, 'r+b').read()\n",
    "    encoded = base64.b64encode(video)\n",
    "    return '''<video alt=\"test\" controls>\n",
    "                <source src=\"data:video/mp4;base64,{0}\" type=\"video/mp4\" />\n",
    "             </video>'''.format(encoded.decode('ascii'))"
   ]
  },
  {
   "cell_type": "markdown",
   "metadata": {},
   "source": [
    "The use of the arrays ```position``` and ```board```."
   ]
  },
  {
   "cell_type": "markdown",
   "metadata": {},
   "source": [
    "position : this variable gives to the rat its position and the limit of the map (2 cells from the last limit) \n",
    "board : This is where we play. This variable indicates the position of the rewards (bonus/cheese and malus/poison are distributed on the board 14x14)"
   ]
  },
  {
   "cell_type": "markdown",
   "metadata": {},
   "source": [
    "## Random Agent"
   ]
  },
  {
   "cell_type": "markdown",
   "metadata": {},
   "source": [
    "***\n",
    "The random Agent\n"
   ]
  },
  {
   "cell_type": "code",
   "execution_count": 38,
   "metadata": {},
   "outputs": [],
   "source": [
    "class RandomAgent(Agent):\n",
    "    def __init__(self):\n",
    "        super(RandomAgent, self).__init__()\n",
    "        pass\n",
    "\n",
    "    def learned_act(self, s):\n",
    "        return np.random.randint(0, self.n_action, size=1)[0]\n",
    "        "
   ]
  },
  {
   "cell_type": "markdown",
   "metadata": {},
   "source": [
    "***\n",
    "***\n",
    "The game moves. You need to fill in the following function for the evaluation:"
   ]
  },
  {
   "cell_type": "code",
   "execution_count": 39,
   "metadata": {},
   "outputs": [],
   "source": [
    "def test(agent, env, epochs, prefix=''):\n",
    "    # Number of won games\n",
    "    score = 0\n",
    "        \n",
    "    for e in range(epochs):\n",
    "        \n",
    "        # At each epoch, we restart to a fresh game and get the initial state\n",
    "        state = env.reset()\n",
    "        # This assumes that the games will end\n",
    "        game_over = False\n",
    "\n",
    "        win = 0\n",
    "        lose = 0\n",
    "\n",
    "        while not game_over:\n",
    "            # The agent performs an action\n",
    "            action = agent.learned_act(state)\n",
    "            \n",
    "\n",
    "            # Apply an action to the environment, get the next state, the reward\n",
    "            # and if the games end\n",
    "            prev_state = state\n",
    "            state, reward, game_over = env.act(action)\n",
    "\n",
    "            # Update the counters\n",
    "            if reward > 0:\n",
    "                win = win + reward\n",
    "            if reward < 0:\n",
    "                lose = lose - reward\n",
    "\n",
    "        # Save as a mp4\n",
    "        env.draw(prefix+str(e))\n",
    "\n",
    "        # Update stats\n",
    "        score = score + win-lose\n",
    "\n",
    "        print(\"Win/lose count {}/{}. Average score ({})\"\n",
    "              .format(win, lose, score/(1+e)))\n",
    "    print('Final score: '+str(score/epochs))"
   ]
  },
  {
   "cell_type": "code",
   "execution_count": 40,
   "metadata": {},
   "outputs": [
    {
     "name": "stdout",
     "output_type": "stream",
     "text": [
      "Win/lose count 10.0/12.0. Average score (-2.0)\n",
      "Win/lose count 8.5/10.0. Average score (-1.75)\n",
      "Win/lose count 11.5/15.0. Average score (-2.3333333333333335)\n",
      "Win/lose count 8.0/16.0. Average score (-3.75)\n",
      "Win/lose count 10.5/16.0. Average score (-4.1)\n",
      "Win/lose count 14.5/11.0. Average score (-2.8333333333333335)\n",
      "Win/lose count 12.5/16.0. Average score (-2.9285714285714284)\n",
      "Win/lose count 5.5/14.0. Average score (-3.625)\n",
      "Win/lose count 8.5/8.0. Average score (-3.1666666666666665)\n",
      "Win/lose count 4.5/14.0. Average score (-3.8)\n",
      "Win/lose count 11.0/11.0. Average score (-3.4545454545454546)\n",
      "Win/lose count 10.5/11.0. Average score (-3.2083333333333335)\n",
      "Win/lose count 11.0/9.0. Average score (-2.8076923076923075)\n",
      "Win/lose count 7.0/21.0. Average score (-3.607142857142857)\n",
      "Win/lose count 12.5/14.0. Average score (-3.466666666666667)\n",
      "Win/lose count 9.0/19.0. Average score (-3.875)\n",
      "Win/lose count 10.5/19.0. Average score (-4.147058823529412)\n",
      "Win/lose count 11.5/12.0. Average score (-3.9444444444444446)\n",
      "Win/lose count 12.5/12.0. Average score (-3.710526315789474)\n",
      "Win/lose count 10.0/13.0. Average score (-3.675)\n",
      "Win/lose count 11.0/13.0. Average score (-3.5952380952380953)\n",
      "Final score: -3.5952380952380953\n"
     ]
    },
    {
     "data": {
      "text/html": [
       "<video alt=\"test\" controls>\n",
       "                <source src=\"data:video/mp4;base64,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\" type=\"video/mp4\" />\n",
       "             </video>"
      ],
      "text/plain": [
       "<IPython.core.display.HTML object>"
      ]
     },
     "execution_count": 40,
     "metadata": {},
     "output_type": "execute_result"
    }
   ],
   "source": [
    "# Initialize the game\n",
    "env = Environment(grid_size=size, max_time=T,temperature=temperature)\n",
    "\n",
    "# Initialize the agent!\n",
    "agent = RandomAgent()\n",
    "\n",
    "test(agent,env,epochs_test,prefix='random')\n",
    "HTML(display_videos('random0.mp4'))"
   ]
  },
  {
   "cell_type": "markdown",
   "metadata": {},
   "source": [
    "***\n",
    "## DQN"
   ]
  },
  {
   "cell_type": "markdown",
   "metadata": {},
   "source": [
    "Let us assume here that $T=\\infty$.\n",
    "\n",
    "***\n",
    "Let $\\pi$ be a policy, show that:\n",
    "\n",
    "\\begin{equation*}\n",
    "Q^{\\pi}(s,a)=E_{(s',a')\\sim p(.|s,a)}[r(s,a)+\\gamma Q^{\\pi}(s',a')]\n",
    "\\end{equation*}\n",
    "\n",
    "Then, show that for the optimal policy $\\pi^*$ (we assume its existence), the following holds: \n",
    "\n",
    "\\begin{equation*}\n",
    "Q^{*}(s,a)=E_{s'\\sim \\pi^*(.|s,a)}[r(s,a)+\\gamma\\max_{a'}Q^{*}(s',a')].\n",
    "\\end{equation*}\n",
    "Finally, deduce that a plausible objective is:\n",
    "\n",
    "\\begin{equation*}\n",
    "\\mathcal{L}(\\theta)=E_{s' \\sim \\pi^*(.|s,a)}\\Vert r+\\gamma\\max\\max_{a'}Q(s',a',\\theta)-Q(s,a,\\theta)\\Vert^{2}.\n",
    "\\end{equation*}\n",
    "\n",
    "\n"
   ]
  },
  {
   "cell_type": "markdown",
   "metadata": {},
   "source": [
    "\\begin{equation*}\n",
    "Q^{*}(s,a)=E_{s'\\sim \\pi^*(.|s,a)}[r(s,a)+\\gamma\\max_{a'}Q^{*}(s',a')].\n",
    "\\end{equation*}\n",
    "Finally, deduce that a plausible objective is:\n",
    "\n",
    "\\begin{equation*}\n",
    "\\mathcal{L}(\\theta)=E_{s' \\sim \\pi^*(.|s,a)}\\Vert r+\\gamma\\max\\max_{a'}Q(s',a',\\theta)-Q(s,a,\\theta)\\Vert^{2}.\n",
    "\\end{equation*}"
   ]
  },
  {
   "cell_type": "markdown",
   "metadata": {},
   "source": []
  },
  {
   "cell_type": "markdown",
   "metadata": {},
   "source": [
    "***\n",
    "The DQN-learning algorithm relies on these derivations to train the parameters $\\theta$ of a Deep Neural Network:\n",
    "\n",
    "1. At the state $s_t$, select the action $a_t$ with best reward using $Q_t$ and store the results;\n",
    "\n",
    "2. Obtain the new state $s_{t+1}$ from the environment $p$;\n",
    "\n",
    "3. Store $(s_t,a_t,s_{t+1})$;\n",
    "\n",
    "4. Obtain $Q_{t+1}$ by minimizing  $\\mathcal{L}$ from a recovered batch from the previously stored results.\n",
    "\n",
    "***\n",
    "We implement the class ```Memory``` that stores moves (in a replay buffer) via ```remember``` and provides a ```random_access``` to these. We specify a maximum memory size to avoid side effects. You can for example use a ```list()``` and set by default ```max_memory=100```."
   ]
  },
  {
   "cell_type": "code",
   "execution_count": 41,
   "metadata": {},
   "outputs": [],
   "source": [
    "class Memory(object):\n",
    "    def __init__(self, max_memory=100):\n",
    "        self.max_memory = max_memory\n",
    "        self.memory = list()\n",
    "\n",
    "    def remember(self, m):\n",
    "        #if len(memory)>self.max_memory:\n",
    "        #   self.memory.remove(self.memory[0])\n",
    "        self.memory.append(m)\n",
    "            \n",
    "        \n",
    "\n",
    "    def random_access(self):\n",
    "        #print(np.random.sample(self.memory,16))\n",
    "        #print(len(np.random.sample(len(self.memory))))\n",
    "        idx = np.random.randint(0, len(self.memory))\n",
    "        \n",
    "        #print(minibatch)\n",
    "        return self.memory[idx]\n",
    "        #random.choice(self.memory)\n",
    "        "
   ]
  },
  {
   "cell_type": "markdown",
   "metadata": {},
   "source": [
    "***\n",
    "The pipeline we will use for training is given below:"
   ]
  },
  {
   "cell_type": "code",
   "execution_count": 42,
   "metadata": {},
   "outputs": [],
   "source": [
    "def train(agent,env,epoch,prefix=''):\n",
    "    # Number of won games\n",
    "    score = 0\n",
    "    loss = 0\n",
    "\n",
    "    for e in range(epoch):\n",
    "        # At each epoch, we restart to a fresh game and get the initial state\n",
    "        state = env.reset()\n",
    "        # This assumes that the games will terminate\n",
    "        game_over = False\n",
    "\n",
    "        win = 0\n",
    "        lose = 0\n",
    "\n",
    "        while not game_over:\n",
    "            # The agent performs an action\n",
    "            action = agent.act(state, train=True)\n",
    "\n",
    "            # Apply an action to the environment, get the next state, the reward\n",
    "            # and if the games end\n",
    "            prev_state = state\n",
    "            state, reward, game_over = env.act(action, train=True)\n",
    "\n",
    "            # Update the counters\n",
    "            if reward > 0:\n",
    "                win = win + reward\n",
    "            if reward < 0:\n",
    "                lose = lose -reward\n",
    "\n",
    "            # Apply the reinforcement strategy\n",
    "            loss = agent.reinforce(prev_state, state,  action, reward, game_over)\n",
    "\n",
    "        # Save as a mp4\n",
    "        if e % 10 == 0:\n",
    "            env.draw(prefix+str(e))\n",
    "\n",
    "        # Update stats\n",
    "        score += win-lose\n",
    "\n",
    "        print(\"Epoch {:03d}/{:03d} | Loss {:.4f} | Win/lose count {}/{} ({})\"\n",
    "              .format(e, epoch, loss, win, lose, win-lose))\n",
    "        agent.save(name_weights=prefix+'model.h5',name_model=prefix+'model.json')"
   ]
  },
  {
   "cell_type": "markdown",
   "metadata": {},
   "source": [
    "***\n",
    "__Question 7__ Implement the DQN training algorithm using a cascade of fully connected layers. You can use different learning rate, batch size or memory size parameters. In particular, the loss might oscillate while the player will start to win the games. You have to find a good criterium."
   ]
  },
  {
   "cell_type": "code",
   "execution_count": 43,
   "metadata": {},
   "outputs": [],
   "source": [
    "class DQN(Agent):\n",
    "    def __init__(self, grid_size,  epsilon = 0.1, memory_size=100, batch_size = 16,n_state=2):\n",
    "        super(DQN, self).__init__(epsilon = epsilon)\n",
    "\n",
    "        # Discount for Q learning\n",
    "        self.discount = 0.99\n",
    "        \n",
    "        self.grid_size = grid_size\n",
    "        \n",
    "        # number of state\n",
    "        self.n_state = n_state\n",
    "\n",
    "        # Memory\n",
    "        self.memory = Memory(memory_size)\n",
    "        \n",
    "        # Batch size when learning\n",
    "        self.batch_size = batch_size\n",
    "\n",
    "    def learned_act(self, s):\n",
    "        act_values = self.model.predict(np.array([s],ndmin=2))\n",
    "        return np.argmax(act_values[0])\n",
    "        \n",
    "\n",
    "    def reinforce(self, s_, n_s_, a_, r_, game_over_):\n",
    "        # Two steps: first memorize the states, second learn from the pool\n",
    "\n",
    "        self.memory.remember([s_, n_s_, a_, r_, game_over_])\n",
    "        \n",
    "        input_states = np.zeros((self.batch_size, 5,5,self.n_state))\n",
    "        target_q = np.zeros((self.batch_size, 4))\n",
    "        \n",
    "        \n",
    "        for i in range(self.batch_size):\n",
    "            minibatch=self.memory.random_access()\n",
    "            s_ = minibatch[0]\n",
    "            n_s_ = minibatch[1]\n",
    "            a_ = minibatch[2]   \n",
    "            r_ = minibatch[3]\n",
    "            g_over_ = minibatch[4]\n",
    "            input_states[i] = s_\n",
    "            s_reshape=np.reshape(s_,(1,5,5,self.n_state))\n",
    "            n_s_reshape=np.reshape(n_s_,(1,5,5,self.n_state))\n",
    "            target_q[i] = self.model.predict(s_reshape)\n",
    "           \n",
    "            if game_over_:\n",
    "\n",
    "                target_q[i,a_]=r_\n",
    "            else:\n",
    "                Q_sa = self.model.predict(n_s_reshape)\n",
    "                target_q[i,a_] = r_ + self.discount * np.max(Q_sa)\n",
    "                \n",
    "                \n",
    "        ######## FILL IN\n",
    "        # HINT: Clip the target to avoid exploiding gradients.. -- clipping is a bit tighter\n",
    "        \n",
    "        \n",
    "        target_q = np.clip(target_q, -3, 3)\n",
    "\n",
    "        l = self.model.train_on_batch(input_states, target_q)\n",
    "\n",
    "\n",
    "        return l\n",
    "\n",
    "    def save(self,name_weights='model.h5',name_model='model.json'):\n",
    "        self.model.save_weights(name_weights, overwrite=True)\n",
    "        with open(name_model, \"w\") as outfile:\n",
    "            json.dump(self.model.to_json(), outfile)\n",
    "            \n",
    "    def load(self,name_weights='model.h5',name_model='model.json'):\n",
    "        with open(name_model, \"r\") as jfile:\n",
    "            model = model_from_json(json.load(jfile))\n",
    "        model.load_weights(name_weights)\n",
    "        model.compile(\"sgd\", \"mse\")\n",
    "        self.model = model\n",
    "\n",
    "            \n",
    "class DQN_FC(DQN):\n",
    "    def __init__(self, *args, lr=0.1,**kwargs):\n",
    "        super(DQN_FC, self).__init__( *args,**kwargs)\n",
    "                \n",
    "        # NN Model\n",
    "        \n",
    "        hidden_size= 24\n",
    "        epsilon = .1  # exploration\n",
    "        num_actions = 4  # [move_left, move_right, move up, move down]\n",
    "        max_memory = 5000\n",
    "        batch_size = 50\n",
    "        grid_size = 10\n",
    "        \n",
    "        # NN Model\n",
    "        model = Sequential()\n",
    "        model.add(Reshape((5*5*self.n_state,), input_shape=(5,5,self.n_state)))\n",
    "        model.add(Dense(64, input_shape=(grid_size**2,), activation='relu'))\n",
    "        model.add(Dense(24, activation='relu'))\n",
    "        model.add(Dense(num_actions, activation='linear'))\n",
    "        model.compile(sgd(lr=lr, decay=0.0001, momentum=0.0), \"mse\")\n",
    "        self.model=model"
   ]
  },
  {
   "cell_type": "code",
   "execution_count": 44,
   "metadata": {},
   "outputs": [
    {
     "name": "stdout",
     "output_type": "stream",
     "text": [
      "WARNING:tensorflow:From /Users/iouahes/anaconda3/lib/python3.7/site-packages/keras/backend/tensorflow_backend.py:422: The name tf.global_variables is deprecated. Please use tf.compat.v1.global_variables instead.\n",
      "\n",
      "Epoch 000/021 | Loss 0.0266 | Win/lose count 3.0/8.0 (-5.0)\n",
      "Epoch 001/021 | Loss 0.0742 | Win/lose count 4.0/5.0 (-1.0)\n",
      "Epoch 002/021 | Loss 0.1362 | Win/lose count 1.5/2.0 (-0.5)\n",
      "Epoch 003/021 | Loss 0.2501 | Win/lose count 4.0/4.0 (0.0)\n",
      "Epoch 004/021 | Loss 1.0152 | Win/lose count 1.5/0 (1.5)\n",
      "Epoch 005/021 | Loss 1.7559 | Win/lose count 3.0/3.0 (0.0)\n",
      "Epoch 006/021 | Loss 1.8591 | Win/lose count 2.5/3.0 (-0.5)\n",
      "Epoch 007/021 | Loss 1.9956 | Win/lose count 2.5/4.0 (-1.5)\n",
      "Epoch 008/021 | Loss 2.0126 | Win/lose count 3.0/3.0 (0.0)\n",
      "Epoch 009/021 | Loss 1.8566 | Win/lose count 5.0/7.0 (-2.0)\n",
      "Epoch 010/021 | Loss 1.9199 | Win/lose count 0.5/3.0 (-2.5)\n",
      "Epoch 011/021 | Loss 2.0183 | Win/lose count 2.5/0 (2.5)\n",
      "Epoch 012/021 | Loss 1.9796 | Win/lose count 3.5/3.0 (0.5)\n",
      "Epoch 013/021 | Loss 1.8836 | Win/lose count 9.5/6.0 (3.5)\n",
      "Epoch 014/021 | Loss 1.8509 | Win/lose count 7.0/5.0 (2.0)\n",
      "Epoch 015/021 | Loss 1.7541 | Win/lose count 4.0/3.0 (1.0)\n",
      "Epoch 016/021 | Loss 1.7585 | Win/lose count 4.0/3.0 (1.0)\n",
      "Epoch 017/021 | Loss 2.0068 | Win/lose count 7.5/7.0 (0.5)\n",
      "Epoch 018/021 | Loss 1.8618 | Win/lose count 8.0/7.0 (1.0)\n",
      "Epoch 019/021 | Loss 1.9731 | Win/lose count 5.0/6.0 (-1.0)\n",
      "Epoch 020/021 | Loss 1.9070 | Win/lose count 6.0/5.0 (1.0)\n"
     ]
    },
    {
     "data": {
      "text/html": [
       "<video alt=\"test\" controls>\n",
       "                <source src=\"data:video/mp4;base64,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\" type=\"video/mp4\" />\n",
       "             </video>"
      ],
      "text/plain": [
       "<IPython.core.display.HTML object>"
      ]
     },
     "execution_count": 44,
     "metadata": {},
     "output_type": "execute_result"
    }
   ],
   "source": [
    "env = Environment(grid_size=size, max_time=T, temperature=0.3)\n",
    "agent = DQN_FC(size, lr=.1, epsilon = 0.2, memory_size=16000, batch_size = 32)\n",
    "train(agent, env, epochs_train, prefix='fc_train')\n",
    "HTML(display_videos('fc_train20.mp4'))"
   ]
  },
  {
   "cell_type": "markdown",
   "metadata": {},
   "source": [
    "***\n",
    "***\n",
    "We implement the DQN training algorithm using a CNN (for example, 2 convolutional layers and one final fully connected layer)."
   ]
  },
  {
   "cell_type": "code",
   "execution_count": 45,
   "metadata": {},
   "outputs": [],
   "source": [
    "class DQN_CNN(DQN):\n",
    "    def __init__(self, *args,lr=0.1,**kwargs):\n",
    "        super().__init__(*args,**kwargs)\n",
    "        #super(DQN_CNN, self).__init__(*args,**kwargs)\n",
    "        \n",
    "        \n",
    "        hidden_size= 24\n",
    "        epsilon = .1  # exploration\n",
    "        num_actions = 4  # [move_left, move_up, move_down, move_right,]\n",
    "        max_memory = 500\n",
    "        batch_size = 50\n",
    "        grid_size = 10\n",
    "        \n",
    "        \n",
    "        model = Sequential()\n",
    "        model.add(Conv2D(128, kernel_size=(2, 2),activation='linear',input_shape=(5,5,self.n_state)))\n",
    "        model.add(Conv2D(64, (3, 3), activation='linear',padding='same'))\n",
    "        model.add(Dense(24, activation='relu'))\n",
    "        #model.add(MaxPooling2D(pool_size=(2, 2))\n",
    "        model.add(Flatten())\n",
    "        #model.add(Dense(256, activation='relu'))\n",
    "        #model.add(Dropout(0.5))\n",
    "\n",
    "        model.add(Dense(num_actions, activation='linear'))\n",
    "        \n",
    "        model.compile(sgd(lr=lr, decay=1e-4, momentum=0.0), \"mse\")\n",
    "        self.model = model"
   ]
  },
  {
   "cell_type": "code",
   "execution_count": 46,
   "metadata": {},
   "outputs": [
    {
     "name": "stdout",
     "output_type": "stream",
     "text": [
      "Epoch 000/021 | Loss 0.0975 | Win/lose count 2.0/6.0 (-4.0)\n",
      "Epoch 001/021 | Loss 1.9298 | Win/lose count 2.5/0 (2.5)\n",
      "Epoch 002/021 | Loss 2.0264 | Win/lose count 5.5/9.0 (-3.5)\n",
      "Epoch 003/021 | Loss 0.9790 | Win/lose count 5.5/5.0 (0.5)\n",
      "Epoch 004/021 | Loss 1.8499 | Win/lose count 6.0/7.0 (-1.0)\n",
      "Epoch 005/021 | Loss 1.9364 | Win/lose count 6.5/1.0 (5.5)\n",
      "Epoch 006/021 | Loss 1.9410 | Win/lose count 8.5/3.0 (5.5)\n",
      "Epoch 007/021 | Loss 1.9171 | Win/lose count 5.5/4.0 (1.5)\n",
      "Epoch 008/021 | Loss 1.9878 | Win/lose count 6.5/3.0 (3.5)\n",
      "Epoch 009/021 | Loss 2.0391 | Win/lose count 7.5/5.0 (2.5)\n",
      "Epoch 010/021 | Loss 1.9924 | Win/lose count 12.5/2.0 (10.5)\n",
      "Epoch 011/021 | Loss 1.9321 | Win/lose count 6.0/1.0 (5.0)\n",
      "Epoch 012/021 | Loss 2.0299 | Win/lose count 12.5/1.0 (11.5)\n",
      "Epoch 013/021 | Loss 1.9129 | Win/lose count 6.5/0 (6.5)\n",
      "Epoch 014/021 | Loss 1.9133 | Win/lose count 2.0/1.0 (1.0)\n",
      "Epoch 015/021 | Loss 1.9173 | Win/lose count 10.5/1.0 (9.5)\n",
      "Epoch 016/021 | Loss 1.9403 | Win/lose count 14.5/1.0 (13.5)\n",
      "Epoch 017/021 | Loss 2.0049 | Win/lose count 15.0/2.0 (13.0)\n",
      "Epoch 018/021 | Loss 1.9427 | Win/lose count 12.5/0 (12.5)\n",
      "Epoch 019/021 | Loss 1.9167 | Win/lose count 8.5/2.0 (6.5)\n",
      "Epoch 020/021 | Loss 1.8930 | Win/lose count 4.0/1.0 (3.0)\n"
     ]
    },
    {
     "data": {
      "text/html": [
       "<video alt=\"test\" controls>\n",
       "                <source src=\"data:video/mp4;base64,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\" type=\"video/mp4\" />\n",
       "             </video>"
      ],
      "text/plain": [
       "<IPython.core.display.HTML object>"
      ]
     },
     "execution_count": 46,
     "metadata": {},
     "output_type": "execute_result"
    }
   ],
   "source": [
    "env = Environment(grid_size=size, max_time=T, temperature=0.3)\n",
    "agent = DQN_CNN(size, lr=.1, epsilon = 0.1, memory_size=2000, batch_size = 32)\n",
    "train(agent,env,epochs_train,prefix='cnn_train')\n",
    "HTML(display_videos('cnn_train20.mp4'))"
   ]
  },
  {
   "cell_type": "code",
   "execution_count": 47,
   "metadata": {},
   "outputs": [
    {
     "data": {
      "text/html": [
       "<video alt=\"test\" controls>\n",
       "                <source src=\"data:video/mp4;base64,AAAAIGZ0eXBpc29tAAACAGlzb21pc28yYXZjMW1wNDEAAAAIZnJlZQAAFh1tZGF0AAACrQYF//+p3EXpvebZSLeWLNgg2SPu73gyNjQgLSBjb3JlIDE1NSByMjkxNyAwYTg0ZDk4IC0gSC4yNjQvTVBFRy00IEFWQyBjb2RlYyAtIENvcHlsZWZ0IDIwMDMtMjAxOCAtIGh0dHA6Ly93d3cudmlkZW9sYW4ub3JnL3gyNjQuaHRtbCAtIG9wdGlvbnM6IGNhYmFjPTEgcmVmPTMgZGVibG9jaz0xOjA6MCBhbmFseXNlPTB4MToweDExMSBtZT1oZXggc3VibWU9NyBwc3k9MSBwc3lfcmQ9MS4wMDowLjAwIG1peGVkX3JlZj0xIG1lX3JhbmdlPTE2IGNocm9tYV9tZT0xIHRyZWxsaXM9MSA4eDhkY3Q9MCBjcW09MCBkZWFkem9uZT0yMSwxMSBmYXN0X3Bza2lwPTEgY2hyb21hX3FwX29mZnNldD00IHRocmVhZHM9OCBsb29rYWhlYWRfdGhyZWFkcz0xIHNsaWNlZF90aHJlYWRzPTAgbnI9MCBkZWNpbWF0ZT0xIGludGVybGFjZWQ9MCBibHVyYXlfY29tcGF0PTAgY29uc3RyYWluZWRfaW50cmE9MCBiZnJhbWVzPTMgYl9weXJhbWlkPTIgYl9hZGFwdD0xIGJfYmlhcz0wIGRpcmVjdD0xIHdlaWdodGI9MSBvcGVuX2dvcD0wIHdlaWdodHA9MiBrZXlpbnQ9MjUwIGtleWludF9taW49MjUgc2NlbmVjdXQ9NDAgaW50cmFfcmVmcmVzaD0wIHJjX2xvb2thaGVhZD00MCByYz1jcmYgbWJ0cmVlPTEgY3JmPTIzLjAgcWNvbXA9MC42MCBxcG1pbj0wIHFwbWF4PTY5IHFwc3RlcD00IGlwX3JhdGlvPTEuNDAgYXE9MToxLjAwAIAAAAMrZYiEADf//vaH+BTZWBP+Wb/9DX/cj9uPrP1xYyEE31qvIejAGS+1H+b/rFFs6Z6UB/fgCJQAc24ZwpHZJ3jjgNSrIMcHwKauk6vwKShNt/ojJP8GdskWRvSkOQ5f6Vpmawq0PqB9Ml0f0Z1G+jWXGqbBbVYUIfNcjqXmkdC0VF+CPqdGeDv1x+EJVoznvBWePL/Q8d4z471i+qNRZGZWuHDC8kFd/dLZS53r814P8EI6sc6seqNHxHLHgz+suCk7vHQf6LJnEJCFefOcbfk4gOv/p/aYoTswSyBY74E/DHqasRR+ZfaNGcmLCp/+Ghkvc/R6+UsikT8XwuiftZSr9mDPj4NBJwpyM8NT+fIRhCUoDzx9haq8HuK5ulWwMhc70czAqBWUYaQY7h5VqgXqj83GtalzcxQT9NPF1X1jx5pGh73Okv2YI4ydTQLK2okgv6O/dfgiqY3TX7GITqC/VFN+sFgAU7HG6qQrwm0DAzpu8FrAERGcU1mA+BaJ3T+6zadjAZnZlARvPUqn7RXUA6HFhMWJdj2fab0EbeNpiIAAkbstkdLTlUAd4E4GtUYpzgz0BZQ8TSfKRJY6fOtkMUyiWpYmR8AmCAfkZXBuvp2R74IhAtsee0cH59iPcszU1E2LmpjrgJZCS7PNYBgxf57YiKm9V1CZsjN2ykWAI+1hHd2ejcS1igGqTAUhMOqHDjcrFlgfYiZ1msUwg6sOZ1xQ6GaJppFATWxGjGMSZD/wzQGGCQUwIRPsA0oQJqhGrlylS3kUAL3/Audnefx3+UMHlkOEdLtl/2lZh4UlVWGLiYvUE1wylsfmKCzGJp1eYoSQtS4BgqoO7+zmb2U+shvsWhydvJDrv12m64zSH8NQrgbHKSQBW9KxIkCO3mcx/TiQtmVnyhoVzR9P1dqac5F8oeNiRj7hwDVCbBybuldP6+HetLpRV7/4ojghlh8rJXBcXA2jlqPUsU9v9VJjPZXjizSTW1c1kH8d68CV/gIbhCVpbygXdDq8t02rg949lSLjAvXFtXE+asnIljSMTzmBeaHi+57mReedr4OEixB38F5LZgqn8AAYUQAAACFBmiJsQ3/+p4QAqHvGXOZZXPePwKVLZ+BTOwMXb1/9b/8AAAAQAZ5BeQr/AIb6S5X6xSLxgQAAABhBmkM8IZMphDf//qeEAPycZ/qt8x+IM+AAAAAbQZpmSeEPJlMCG//+p4QBBfo58dslZnwT/K0hAAAAEUGehEURPCv/ANezc1xlg+1XAAAADgGepWpCvwDXkhmTckqvAAAAGkGap0moQWiZTAh3//6plgDR+QZn+KOfVTKhAAAAGUGayknhClJlMCHf/qmWANP31ZVZm2CAg4AAAAARQZ7oRTRMK/8BSKUbzQsH2cEAAAAOAZ8JakK/AUhsYybkk4MAAAAaQZsNSahBaJlMCHf//qmWAMv48/eiw6QNqmAAAAASQZ8rRREsK/8BNpPnOsnybNSAAAAADgGfTGpCvwE3DQu96j7LAAAAHUGbUUmoQWyZTAh3//6plgDC1OF/vq+MtA4ftGVlAAAAEEGfb0UVLC//ANyI4zjkiakAAAAQAZ+OdEK/AS71EifFmKNVsAAAAA8Bn5BqQr8BNnmiakps1IAAAAATQZuVSahBbJlMCHf//qmWAACVgQAAAAxBn7NFFSwv/wAAsoAAAAAQAZ/SdEK/ATbcd5gljaKV8AAAABABn9RqQr8BNnmiZdB08s1JAAAAE0Gb2UmoQWyZTAh3//6plgAAlYAAAAAMQZ/3RRUsL/8AALKBAAAAEAGeFnRCvwErWLdl1X8ByMEAAAAQAZ4YakK/ATZ5omXQdPLNSAAAABJBmh1JqEFsmUwIb//+p4QAAScAAAAMQZ47RRUsL/8AALKAAAAAEAGeWnRCvwE23HeYJY2ilfEAAAAQAZ5cakK/ATZ5omXQdPLNSQAAABpBmkBJqEFsmUwIb//+p4QBjcZjkncbLt6j4AAAAA9Bnn5FFSwr/wE2k3DWakAAAAANAZ6fakK/ATcNIt6zUwAAABpBmoFJqEFsmUwId//+qZYA0dLK4zS/sICDgAAAABdBmqRJ4QpSZTAh3/6plgDT99WcOkICDwAAABFBnsJFNEwr/wFIpRvNCwfZwQAAAA4BnuNqQr8BSGxjJuSTgwAAABNBmuhJqEFomUwId//+qZYAAJWBAAAADEGfBkURLC//AACygQAAAA8BnyV0Qr8BM1SOI7LsqS8AAAAPAZ8nakK/ATNUjdZ6s9H+AAAAE0GbLEmoQWyZTAh3//6plgAAlYAAAAAMQZ9KRRUsL/8AALKBAAAADwGfaXRCvwEzVI4jsuypLwAAAA8Bn2tqQr8BM1SN1nqz0f4AAAATQZtwSahBbJlMCHf//qmWAACVgQAAAAxBn45FFSwv/wAAsoEAAAAPAZ+tdEK/ATNUjiOy7KkvAAAADwGfr2pCvwEzVI3WerPR/gAAABNBm7RJqEFsmUwId//+qZYAAJWAAAAADEGf0kUVLC//AACygQAAAA8Bn/F0Qr8BM1SOI7LsqS8AAAAPAZ/zakK/ATNUjdZ6s9H+AAAAGkGb90moQWyZTAh3//6plgDL+POlnR1LsmVBAAAAD0GeFUUVLCv/ATaTcNZqQAAAAA0BnjZqQr8BNw0i3rNTAAAAF0GaO0moQWyZTAh3//6plgIB2Y/L2K+BAAAAEkGeWUUVLC//AWV2w2uy9AIknAAAABABnnh0Qr8B30K1XgNXZa2BAAAADwGeempCvwHetfijSHiiJgAAABxBmn9JqEFsmUwId//+qZYBy9ULISbXDox+dMrZAAAAEEGenUUVLC//AVFlioQT4OEAAAAQAZ68dEK/AcaMyI7FmKNOOAAAAA8Bnr5qQr8BxrAlyv79ccAAAAATQZqjSahBbJlMCHf//qmWAACVgQAAAAxBnsFFFSwv/wAAsoAAAAAQAZ7gdEK/AcFYBvwAfbpGwQAAABABnuJqQr8BwVgG9nj7dI2AAAAAE0Ga50moQWyZTAh3//6plgAAlYEAAAAMQZ8FRRUsL/8AALKBAAAAEAGfJHRCvwHBWAb8AH26RsEAAAAQAZ8makK/AcFYBvZ4+3SNgQAAABNBmytJqEFsmUwId//+qZYAAJWAAAAADEGfSUUVLC//AACygAAAABABn2h0Qr8BwVgG/AB9ukbBAAAAEAGfampCvwHBWAb2ePt0jYAAAAATQZtvSahBbJlMCHf//qmWAACVgAAAAAxBn41FFSwv/wAAsoEAAAAQAZ+sdEK/AcFYBvwAfbpGwQAAABABn65qQr8BwVgG9nj7dI2BAAAAE0Gbs0moQWyZTAh3//6plgAAlYAAAAAMQZ/RRRUsL/8AALKAAAAAEAGf8HRCvwHBWAb8AH26RsEAAAAQAZ/yakK/AcFYBvZ4+3SNgAAAABJBm/dJqEFsmUwIb//+p4QAAScAAAAMQZ4VRRUsL/8AALKBAAAAEAGeNHRCvwHBWAb8AH26RsAAAAAQAZ42akK/AcFYBvZ4+3SNgQAAABpBmjhJqEFsmUwId//+qZYB1eFH0qSFMDJDwQAAABtBmltJ4QpSZTAh3/6plgDCqOdaHq+52qXYjqgAAAASQZ55RTRMK/8BLtivYWC/LL2BAAAADgGemmpCvwEu2THnBAXsAAAAE0Gan0moQWiZTAh3//6plgAAlYEAAAAMQZ69RREsL/8AALKBAAAADwGe3HRCvwE23HdHbfCpLwAAAA8Bnt5qQr8BNnmiC1Hl0f4AAAATQZrDSahBbJlMCHf//qmWAACVgQAAAAxBnuFFFSwv/wAAsoAAAAAPAZ8AdEK/ATbcd0dt8KkvAAAADwGfAmpCvwE2eaILUeXR/gAAABNBmwdJqEFsmUwId//+qZYAAJWBAAAADEGfJUUVLC//AACygQAAAA8Bn0R0Qr8BNtx3R23wqS8AAAAPAZ9GakK/ATZ5ogtR5dH/AAAAE0GbS0moQWyZTAh3//6plgAAlYAAAAAMQZ9pRRUsL/8AALKAAAAADwGfiHRCvwE23HdHbfCpLwAAAA8Bn4pqQr8BNnmiC1Hl0f4AAAATQZuPSahBbJlMCHf//qmWAACVgAAAAAxBn61FFSwv/wAAsoEAAAAPAZ/MdEK/ATbcd0dt8KkvAAAADwGfzmpCvwE2eaILUeXR/wAAABNBm9NJqEFsmUwId//+qZYAAJWAAAAADEGf8UUVLC//AACygAAAAA8BnhB0Qr8BNtx3R23wqS8AAAAPAZ4SakK/ATZ5ogtR5dH+AAAAE0GaF0moQWyZTAh3//6plgAAlYAAAAAMQZ41RRUsL/8AALKBAAAADwGeVHRCvwE23HdHbfCpLwAAAA8BnlZqQr8BNnmiC1Hl0f8AAAATQZpbSahBbJlMCHf//qmWAACVgQAAAAxBnnlFFSwv/wAAsoAAAAAPAZ6YdEK/ATbcd0dt8KkvAAAADwGemmpCvwE2eaILUeXR/gAAABNBmp9JqEFsmUwId//+qZYAAJWBAAAADEGevUUVLC//AACygQAAAA8Bntx0Qr8BNtx3R23wqS8AAAAPAZ7eakK/ATZ5ogtR5dH+AAAAE0Gaw0moQWyZTAh3//6plgAAlYEAAAAMQZ7hRRUsL/8AALKAAAAADwGfAHRCvwE23HdHbfCpLwAAAA8BnwJqQr8BNnmiC1Hl0f4AAAAcQZsHSahBbJlMCHf//qmWAcvVCyEm1w6MfnTK2QAAABBBnyVFFSwv/wFRZYqEE+DhAAAAEAGfRHRCvwHGjMiOxZijTjkAAAAPAZ9GakK/AcawJcr+/XHBAAAAE0GbS0moQWyZTAh3//6plgAAlYAAAAAMQZ9pRRUsL/8AALKAAAAAEAGfiHRCvwHBWAb8AH26RsEAAAAQAZ+KakK/AcFYBvZ4+3SNgAAAABNBm49JqEFsmUwId//+qZYAAJWAAAAADEGfrUUVLC//AACygQAAABABn8x0Qr8BwVgG/AB9ukbBAAAAEAGfzmpCvwHBWAb2ePt0jYEAAAATQZvTSahBbJlMCHf//qmWAACVgAAAAAxBn/FFFSwv/wAAsoAAAAAQAZ4QdEK/AcFYBvwAfbpGwQAAABABnhJqQr8BwVgG9nj7dI2AAAAAE0GaF0moQWyZTAh3//6plgAAlYAAAAAMQZ41RRUsL/8AALKBAAAAEAGeVHRCvwHBWAb8AH26RsAAAAAQAZ5WakK/AcFYBvZ4+3SNgQAAABNBmltJqEFsmUwId//+qZYAAJWBAAAADEGeeUUVLC//AACygAAAABABnph0Qr8BwVgG/AB9ukbBAAAAEAGemmpCvwHBWAb2ePt0jYAAAAATQZqfSahBbJlMCHf//qmWAACVgQAAAAxBnr1FFSwv/wAAsoEAAAAQAZ7cdEK/AcFYBvwAfbpGwAAAABABnt5qQr8BwVgG9nj7dI2AAAAAE0Gaw0moQWyZTAh3//6plgAAlYEAAAAMQZ7hRRUsL/8AALKAAAAAEAGfAHRCvwHBWAb8AH26RsEAAAAQAZ8CakK/AcFYBvZ4+3SNgAAAABNBmwdJqEFsmUwId//+qZYAAJWBAAAADEGfJUUVLC//AACygQAAABABn0R0Qr8BwVgG/AB9ukbBAAAAEAGfRmpCvwHBWAb2ePt0jYEAAAATQZtLSahBbJlMCHf//qmWAACVgAAAAAxBn2lFFSwv/wAAsoAAAAAQAZ+IdEK/AcFYBvwAfbpGwQAAABABn4pqQr8BwVgG9nj7dI2AAAAAE0Gbj0moQWyZTAh3//6plgAAlYAAAAAMQZ+tRRUsL/8AALKBAAAAEAGfzHRCvwHBWAb8AH26RsEAAAAQAZ/OakK/AcFYBvZ4+3SNgQAAABNBm9NJqEFsmUwId//+qZYAAJWAAAAADEGf8UUVLC//AACygAAAABABnhB0Qr8BwVgG/AB9ukbBAAAAEAGeEmpCvwHBWAb2ePt0jYAAAAATQZoXSahBbJlMCHf//qmWAACVgAAAAAxBnjVFFSwv/wAAsoEAAAAQAZ5UdEK/AcFYBvwAfbpGwAAAABABnlZqQr8BwVgG9nj7dI2BAAAAHkGaW0moQWyZTAh3//6plgHV4hAP7+dRjogW4wLGfQAAABBBnnlFFSwv/wFRoEVpRPg4AAAADwGemHRCvwHGL8XAflnVQQAAABABnppqQr8BxgiZpvpIOJFwAAAAEkGan0moQWyZTAhv//6nhAABJwAAABNBnr1FFSwv/wFk9ce3twb/cxcdAAAAEAGe3HRCvwHfQrVeA1dlrYAAAAAPAZ7eakK/Ad61+KNIeKImAAAAEkGaw0moQWyZTAhv//6nhAABJwAAAAxBnuFFFSwv/wAAsoAAAAAPAZ8AdEK/ATbcd0dt8KkvAAAADwGfAmpCvwE2eaILUeXR/gAAABJBmwdJqEFsmUwIZ//+nhAABH0AAAAMQZ8lRRUsL/8AALKBAAAADwGfRHRCvwE23HdHbfCpLwAAAA8Bn0ZqQr8BNnmiC1Hl0f8AAAAbQZtJS6hCEFskRggoB/IB/YeAUTCv/jhAABFwAAAAJAGfaGpCvwKvY+1BxN2qw0km5aoUDH02cP7kt8W4y1j54OkWGAAADFBtb292AAAAbG12aGQAAAAAAAAAAAAAAAAAAAPoAAAfkAABAAABAAAAAAAAAAAAAAAAAQAAAAAAAAAAAAAAAAAAAAEAAAAAAAAAAAAAAAAAAEAAAAAAAAAAAAAAAAAAAAAAAAAAAAAAAAAAAAAAAAACAAALenRyYWsAAABcdGtoZAAAAAMAAAAAAAAAAAAAAAEAAAAAAAAfkAAAAAAAAAAAAAAAAAAAAAAAAQAAAAAAAAAAAAAAAAAAAAEAAAAAAAAAAAAAAAAAAEAAAAABEAAAARAAAAAAACRlZHRzAAAAHGVsc3QAAAAAAAAAAQAAH5AAAAQAAAEAAAAACvJtZGlhAAAAIG1kaGQAAAAAAAAAAAAAAAAAADIAAAGUAFXEAAAAAAAtaGRscgAAAAAAAAAAdmlkZQAAAAAAAAAAAAAAAFZpZGVvSGFuZGxlcgAAAAqdbWluZgAAABR2bWhkAAAAAQAAAAAAAAAAAAAAJGRpbmYAAAAcZHJlZgAAAAAAAAABAAAADHVybCAAAAABAAAKXXN0YmwAAACVc3RzZAAAAAAAAAABAAAAhWF2YzEAAAAAAAAAAQAAAAAAAAAAAAAAAAAAAAABEAEQAEgAAABIAAAAAAAAAAEAAAAAAAAAAAAAAAAAAAAAAAAAAAAAAAAAAAAAAAAAAAAY//8AAAAvYXZjQwH0AA3/4QAXZ/QADZGbKCIR0IAAAAMAgAAAGQeKFMsBAAVo6+PESAAAABhzdHRzAAAAAAAAAAEAAADKAAACAAAAABRzdHNzAAAAAAAAAAEAAAABAAAGKGN0dHMAAAAAAAAAwwAAAAEAAAQAAAAAAQAABgAAAAABAAACAAAAAAEAAAQAAAAAAQAACAAAAAACAAACAAAAAAEAAAQAAAAAAQAACAAAAAACAAACAAAAAAEAAAgAAAAAAgAAAgAAAAABAAAKAAAAAAEAAAQAAAAAAQAAAAAAAAABAAACAAAAAAEAAAoAAAAAAQAABAAAAAABAAAAAAAAAAEAAAIAAAAAAQAACgAAAAABAAAEAAAAAAEAAAAAAAAAAQAAAgAAAAABAAAKAAAAAAEAAAQAAAAAAQAAAAAAAAABAAACAAAAAAEAAAgAAAAAAgAAAgAAAAABAAAEAAAAAAEAAAgAAAAAAgAAAgAAAAABAAAKAAAAAAEAAAQAAAAAAQAAAAAAAAABAAACAAAAAAEAAAoAAAAAAQAABAAAAAABAAAAAAAAAAEAAAIAAAAAAQAACgAAAAABAAAEAAAAAAEAAAAAAAAAAQAAAgAAAAABAAAKAAAAAAEAAAQAAAAAAQAAAAAAAAABAAACAAAAAAEAAAgAAAAAAgAAAgAAAAABAAAKAAAAAAEAAAQAAAAAAQAAAAAAAAABAAACAAAAAAEAAAoAAAAAAQAABAAAAAABAAAAAAAAAAEAAAIAAAAAAQAACgAAAAABAAAEAAAAAAEAAAAAAAAAAQAAAgAAAAABAAAKAAAAAAEAAAQAAAAAAQAAAAAAAAABAAACAAAAAAEAAAoAAAAAAQAABAAAAAABAAAAAAAAAAEAAAIAAAAAAQAACgAAAAABAAAEAAAAAAEAAAAAAAAAAQAAAgAAAAABAAAKAAAAAAEAAAQAAAAAAQAAAAAAAAABAAACAAAAAAEAAAoAAAAAAQAABAAAAAABAAAAAAAAAAEAAAIAAAAAAQAABAAAAAABAAAIAAAAAAIAAAIAAAAAAQAACgAAAAABAAAEAAAAAAEAAAAAAAAAAQAAAgAAAAABAAAKAAAAAAEAAAQAAAAAAQAAAAAAAAABAAACAAAAAAEAAAoAAAAAAQAABAAAAAABAAAAAAAAAAEAAAIAAAAAAQAACgAAAAABAAAEAAAAAAEAAAAAAAAAAQAAAgAAAAABAAAKAAAAAAEAAAQAAAAAAQAAAAAAAAABAAACAAAAAAEAAAoAAAAAAQAABAAAAAABAAAAAAAAAAEAAAIAAAAAAQAACgAAAAABAAAEAAAAAAEAAAAAAAAAAQAAAgAAAAABAAAKAAAAAAEAAAQAAAAAAQAAAAAAAAABAAACAAAAAAEAAAoAAAAAAQAABAAAAAABAAAAAAAAAAEAAAIAAAAAAQAACgAAAAABAAAEAAAAAAEAAAAAAAAAAQAAAgAAAAABAAAKAAAAAAEAAAQAAAAAAQAAAAAAAAABAAACAAAAAAEAAAoAAAAAAQAABAAAAAABAAAAAAAAAAEAAAIAAAAAAQAACgAAAAABAAAEAAAAAAEAAAAAAAAAAQAAAgAAAAABAAAKAAAAAAEAAAQAAAAAAQAAAAAAAAABAAACAAAAAAEAAAoAAAAAAQAABAAAAAABAAAAAAAAAAEAAAIAAAAAAQAACgAAAAABAAAEAAAAAAEAAAAAAAAAAQAAAgAAAAABAAAKAAAAAAEAAAQAAAAAAQAAAAAAAAABAAACAAAAAAEAAAoAAAAAAQAABAAAAAABAAAAAAAAAAEAAAIAAAAAAQAACgAAAAABAAAEAAAAAAEAAAAAAAAAAQAAAgAAAAABAAAKAAAAAAEAAAQAAAAAAQAAAAAAAAABAAACAAAAAAEAAAoAAAAAAQAABAAAAAABAAAAAAAAAAEAAAIAAAAAAQAACgAAAAABAAAEAAAAAAEAAAAAAAAAAQAAAgAAAAABAAAKAAAAAAEAAAQAAAAAAQAAAAAAAAABAAACAAAAAAEAAAoAAAAAAQAABAAAAAABAAAAAAAAAAEAAAIAAAAAAQAACgAAAAABAAAEAAAAAAEAAAAAAAAAAQAAAgAAAAABAAAKAAAAAAEAAAQAAAAAAQAAAAAAAAABAAACAAAAAAEAAAoAAAAAAQAABAAAAAABAAAAAAAAAAEAAAIAAAAAAQAABgAAAAABAAACAAAAABxzdHNjAAAAAAAAAAEAAAABAAAAygAAAAEAAAM8c3RzegAAAAAAAAAAAAAAygAABeAAAAAlAAAAFAAAABwAAAAfAAAAFQAAABIAAAAeAAAAHQAAABUAAAASAAAAHgAAABYAAAASAAAAIQAAABQAAAAUAAAAEwAAABcAAAAQAAAAFAAAABQAAAAXAAAAEAAAABQAAAAUAAAAFgAAABAAAAAUAAAAFAAAAB4AAAATAAAAEQAAAB4AAAAbAAAAFQAAABIAAAAXAAAAEAAAABMAAAATAAAAFwAAABAAAAATAAAAEwAAABcAAAAQAAAAEwAAABMAAAAXAAAAEAAAABMAAAATAAAAHgAAABMAAAARAAAAGwAAABYAAAAUAAAAEwAAACAAAAAUAAAAFAAAABMAAAAXAAAAEAAAABQAAAAUAAAAFwAAABAAAAAUAAAAFAAAABcAAAAQAAAAFAAAABQAAAAXAAAAEAAAABQAAAAUAAAAFwAAABAAAAAUAAAAFAAAABYAAAAQAAAAFAAAABQAAAAeAAAAHwAAABYAAAASAAAAFwAAABAAAAATAAAAEwAAABcAAAAQAAAAEwAAABMAAAAXAAAAEAAAABMAAAATAAAAFwAAABAAAAATAAAAEwAAABcAAAAQAAAAEwAAABMAAAAXAAAAEAAAABMAAAATAAAAFwAAABAAAAATAAAAEwAAABcAAAAQAAAAEwAAABMAAAAXAAAAEAAAABMAAAATAAAAFwAAABAAAAATAAAAEwAAACAAAAAUAAAAFAAAABMAAAAXAAAAEAAAABQAAAAUAAAAFwAAABAAAAAUAAAAFAAAABcAAAAQAAAAFAAAABQAAAAXAAAAEAAAABQAAAAUAAAAFwAAABAAAAAUAAAAFAAAABcAAAAQAAAAFAAAABQAAAAXAAAAEAAAABQAAAAUAAAAFwAAABAAAAAUAAAAFAAAABcAAAAQAAAAFAAAABQAAAAXAAAAEAAAABQAAAAUAAAAFwAAABAAAAAUAAAAFAAAABcAAAAQAAAAFAAAABQAAAAiAAAAFAAAABMAAAAUAAAAFgAAABcAAAAUAAAAEwAAABYAAAAQAAAAEwAAABMAAAAWAAAAEAAAABMAAAATAAAAHwAAACgAAAAUc3RjbwAAAAAAAAABAAAAMAAAAGJ1ZHRhAAAAWm1ldGEAAAAAAAAAIWhkbHIAAAAAAAAAAG1kaXJhcHBsAAAAAAAAAAAAAAAALWlsc3QAAAAlqXRvbwAAAB1kYXRhAAAAAQAAAABMYXZmNTguMjkuMTAw\" type=\"video/mp4\" />\n",
       "             </video>"
      ],
      "text/plain": [
       "<IPython.core.display.HTML object>"
      ]
     },
     "execution_count": 47,
     "metadata": {},
     "output_type": "execute_result"
    }
   ],
   "source": [
    "HTML(display_videos('cnn_train20.mp4'))"
   ]
  },
  {
   "cell_type": "markdown",
   "metadata": {},
   "source": [
    "***\n",
    "***\n",
    "We test both algorithms and compare their performances. Which issue(s) do you observe? Observe also different behaviors by changing the temperature."
   ]
  },
  {
   "cell_type": "code",
   "execution_count": null,
   "metadata": {},
   "outputs": [],
   "source": [
    "env = Environment(grid_size=size, max_time=T,temperature=0.8)#change back the temperature to 0.3\n",
    "agent_cnn = DQN_CNN(size, lr=.1, epsilon = 0.1, memory_size=2000, batch_size = 32)\n",
    "agent_cnn.load(name_weights='cnn_trainmodel.h5',name_model='cnn_trainmodel.json')\n",
    "\n",
    "agent_fc = DQN_FC(size, lr=.1, epsilon = 0.1, memory_size=2000, batch_size = 32)\n",
    "agent_cnn.load(name_weights='fc_trainmodel.h5',name_model='fc_trainmodel.json')\n",
    "print('Test of the CNN')\n",
    "test(agent_cnn,env,epochs_test,prefix='cnn_test')\n",
    "print('Test of the FC')\n",
    "test(agent_fc,env,epochs_test,prefix='fc_test')"
   ]
  },
  {
   "cell_type": "code",
   "execution_count": null,
   "metadata": {},
   "outputs": [],
   "source": [
    "HTML(display_videos('cnn_test19.mp4'))"
   ]
  },
  {
   "cell_type": "code",
   "execution_count": null,
   "metadata": {},
   "outputs": [],
   "source": [
    "HTML(display_videos('fc_test19.mp4'))"
   ]
  },
  {
   "cell_type": "markdown",
   "metadata": {},
   "source": [
    "According to the test results, we observe that the CNN models'average scores are higher than the FC's. We conclude that the CNN model is the best one.\n",
    "When we increase the temperature, we can observe better results for both models, since we are increasing the percentage of cheeses on the board (binomial distribution).\n",
    "However, in both models, the agent seems to stay stuck.\n",
    "He doesn't move a lot from its position, does not explore the board enough. He can't learn well enough.\n",
    "exploration: The environment is explored, in order to make estimates of rewards for action taken more accurate;\n",
    "exploitation: Maximization of expected reward, although it can not be done with certainty, because we only have estimates of rewards for actions already taken.\n",
    "The dilemma is to find the balance between exploring actions that have not been taken before or have been tried very few times to further knowledge and exploiting knowledge already acquired from actions that have been already taken multiple times.\n"
   ]
  },
  {
   "cell_type": "markdown",
   "metadata": {},
   "source": [
    "***\n",
    "\n",
    "The algorithm tends to not explore the map which can be an issue. We propose two ideas in order to encourage exploration:\n",
    "1. Incorporating a decreasing $\\epsilon$-greedy exploration with the method ```set_epsilon```\n",
    "2. Append via the environment a new state that describes if a cell has been visited or not\n",
    "\n",
    "***\n",
    "We design a new ```train_explore``` function and environment class ```EnvironmentExploring``` to tackle the issue of exploration.\n",
    "\n"
   ]
  },
  {
   "cell_type": "code",
   "execution_count": null,
   "metadata": {},
   "outputs": [],
   "source": [
    "def train_explore(agent,env,epoch,prefix=''):\n",
    "    # Number of won games\n",
    "    score = 0\n",
    "    loss = 0\n",
    "    epsilon_decay = 0.995\n",
    "    \n",
    "    for e in range(1,epoch+1):\n",
    "        # At each epoch, we restart to a fresh game and get the initial state\n",
    "        state = env.reset()\n",
    "        # This assumes that the games will terminate\n",
    "        game_over = False\n",
    "\n",
    "        win = 0\n",
    "        lose = 0\n",
    "\n",
    "        while not game_over:\n",
    "            \n",
    "            # Epsilon-greedy exploration\n",
    "            agent.set_epsilon(np.float(agent.get_epsilon()/e))\n",
    "\n",
    "            \n",
    "            # The agent performs an action\n",
    "            action = agent.act(state , train=True)\n",
    "\n",
    "            # Apply an action to the environment, get the next state, the reward\n",
    "            # and if the games end\n",
    "            prev_state = state\n",
    "            state, reward, game_over = env.act(action, train=True)\n",
    "\n",
    "            # Update the counters\n",
    "            if reward > 0:\n",
    "                win = win + reward\n",
    "            if reward < 0:\n",
    "                lose = lose - reward\n",
    "\n",
    "            # Apply the reinforcement strategy\n",
    "            loss = agent.reinforce(prev_state, state,  action, reward, game_over)\n",
    "\n",
    "            \n",
    "        # Save as a mp4\n",
    "        #if e % 5 == 0:\n",
    "        env.draw(prefix+str(e))\n",
    "\n",
    "        # Update stats\n",
    "        score += win-lose\n",
    "\n",
    "        print(\"Epoch {:03d}/{:03d} | Loss {:.4f} | Win/lose count {}/{} ({})\"\n",
    "              .format(e, epoch, loss, win, lose, win-lose))\n",
    "        agent.save(name_weights=prefix+'model.h5',name_model=prefix+'model.json')\n",
    "        \n",
    "    print('Final score: '+str(score/epoch))\n",
    "\n",
    "class EnvironmentExploring(object):\n",
    "    def __init__(self, grid_size=10, max_time=500, temperature=0.1):\n",
    "        grid_size = grid_size+4 #increasing plateau of 2 cells\n",
    "        self.grid_size = grid_size\n",
    "        self.max_time = max_time\n",
    "        self.temperature = temperature\n",
    "        self.malus_position=np.zeros((grid_size,grid_size))\n",
    "        self.board = np.zeros((grid_size,grid_size))\n",
    "        self.position = np.zeros((grid_size,grid_size))\n",
    "\n",
    "        # coordinate of the rat\n",
    "        self.x = 0\n",
    "        self.y = 1\n",
    "\n",
    "        # self time\n",
    "        self.t = 0\n",
    "        #for screening\n",
    "        self.scale=16\n",
    "\n",
    "        self.to_draw = np.zeros((max_time+2, grid_size*self.scale, grid_size*self.scale, 3))\n",
    "\n",
    "\n",
    "    def draw(self,e):\n",
    "        skvideo.io.vwrite(str(e) + '.mp4', self.to_draw)\n",
    "\n",
    "    def get_frame(self,t):\n",
    "        b = np.zeros((self.grid_size,self.grid_size,3))+128\n",
    "        b[self.board>0,0] = 256\n",
    "        b[self.board < 0, 2] = 256\n",
    "        b[self.x,self.y,:]=256\n",
    "        b[-2:,:,:]=0\n",
    "        b[:,-2:,:]=0\n",
    "        b[:2,:,:]=0\n",
    "        b[:,:2,:]=0\n",
    "        \n",
    "        b =  cv2.resize(b, None, fx=self.scale, fy=self.scale, interpolation=cv2.INTER_NEAREST)\n",
    "\n",
    "        self.to_draw[t,:,:,:]=b\n",
    "\n",
    "\n",
    "    def act(self, action, train=False):\n",
    "        \"\"\"This function returns the new state, reward and decides if the\n",
    "        game ends.\n",
    "        l'environnement recoit l'action et se modifie\"\"\"\n",
    "\n",
    "        self.get_frame(int(self.t))\n",
    "        \n",
    "        #reinitialisation de la position du rat à chaque partie mais pas le bord\n",
    "        self.position = np.zeros((self.grid_size, self.grid_size))\n",
    "        \n",
    "        #eau autour du board d'action\n",
    "        self.position[0:2,:]= -1\n",
    "        self.position[:,0:2] = -1\n",
    "        self.position[-2:, :] = -1\n",
    "        self.position[:, -2:] = -1\n",
    "\n",
    "        self.position[self.x, self.y] = 1\n",
    "        #differentes positions possibles\n",
    "        if action == 0:\n",
    "            if self.x == self.grid_size-3:\n",
    "                self.x = self.x-1\n",
    "            else:\n",
    "                self.x = self.x + 1\n",
    "        elif action == 1:\n",
    "            if self.x == 2:\n",
    "                self.x = self.x+1\n",
    "            else:\n",
    "                self.x = self.x-1\n",
    "        elif action == 2:\n",
    "            if self.y == self.grid_size - 3:\n",
    "                self.y = self.y - 1\n",
    "            else:\n",
    "                self.y = self.y + 1\n",
    "        elif action == 3:\n",
    "            if self.y == 2:\n",
    "                self.y = self.y + 1\n",
    "            else:\n",
    "                self.y = self.y - 1\n",
    "        else:\n",
    "            RuntimeError('Error: action not recognized')\n",
    "            \n",
    "        reward = 0\n",
    "        if train:\n",
    "            reward = -self.malus_position[self.x, self.y]\n",
    "        self.malus_position[self.x, self.y] = 0.1\n",
    "\n",
    "        reward = reward + self.board[self.x, self.y]\n",
    "        self.t = self.t + 1\n",
    "        #reward =+ self.board[self.x, self.y]\n",
    "        self.board[self.x, self.y] = 0\n",
    "        game_over = self.t > self.max_time\n",
    "        \n",
    "        state = np.concatenate((self.malus_position.reshape(self.grid_size, self.grid_size,1),\n",
    "                                self.board.reshape(self.grid_size, self.grid_size,1),\n",
    "                        self.position.reshape(self.grid_size, self.grid_size,1)),axis=2)\n",
    "        #take only the environment of the rat (everything the rat can see)\n",
    "        state = state[self.x-2:self.x+3,self.y-2:self.y+3,:]\n",
    "\n",
    "        return state, reward, game_over\n",
    "\n",
    "    def reset(self):\n",
    "        \"\"\"This function resets the game and returns the initial state\"\"\"\n",
    "        #generation de la position du rat à au moins 3 cases de l'eau\n",
    "        self.x = np.random.randint(3, self.grid_size-3, size=1)[0]\n",
    "        self.y = np.random.randint(3, self.grid_size-3, size=1)[0]\n",
    "\n",
    "        #bonus for creation of board\n",
    "        #distribution malus and bonus==> cheese and poison with binomial distribution with temperature 0.5\n",
    "        bonus = 0.5*np.random.binomial(1,self.temperature,size=self.grid_size**2)\n",
    "        bonus = bonus.reshape(self.grid_size,self.grid_size)\n",
    "\n",
    "        malus = -1.0*np.random.binomial(1,self.temperature,size=self.grid_size**2)\n",
    "        malus = malus.reshape(self.grid_size, self.grid_size)\n",
    "\n",
    "        self.to_draw = np.zeros((self.max_time+2, self.grid_size*self.scale, self.grid_size*self.scale, 3))\n",
    "\n",
    "        #cas où on aurait -0.5 , cheese preponderant\n",
    "        malus[bonus>0]=0\n",
    "\n",
    "        self.board = bonus + malus\n",
    "\n",
    "        self.position = np.zeros((self.grid_size, self.grid_size))\n",
    "        self.position[0:2,:]= -1\n",
    "        self.position[:,0:2] = -1\n",
    "        self.position[-2:, :] = -1\n",
    "        self.position[:, -2:] = -1\n",
    "        self.board[self.x,self.y] = 0\n",
    "        self.t = 0\n",
    "\n",
    "        state = np.concatenate((self.malus_position.reshape(self.grid_size, self.grid_size,1),\n",
    "                                self.board.reshape(self.grid_size, self.grid_size,1),\n",
    "                                self.position.reshape(self.grid_size, self.grid_size,1)),axis=2)\n",
    "\n",
    "        state = state[self.x - 2:self.x + 3, self.y - 2:self.y + 3, :]\n",
    "        return state\n",
    "    \n",
    "#incorporing an epsilon greedy this algorithm is to decrease the probability as the number of rounds (t) goes up. \n",
    "#It’s called epsilon-reducing-greedy algorithm. Intuitively, it makes lot of sense. As the number of rounds go up, the probability of choosing an action randomly goes down i.e., there is less exploration and more exploitation. \n",
    "#One way to reduce the probability is as below"
   ]
  },
  {
   "cell_type": "code",
   "execution_count": null,
   "metadata": {},
   "outputs": [],
   "source": [
    "# Training\n",
    "env = EnvironmentExploring(grid_size=size, max_time=T, temperature=0.3)\n",
    "agent = DQN_CNN(size, lr=.1, epsilon = 0.1, memory_size=16000, batch_size = 32,n_state=3)\n",
    "train_explore(agent, env, epochs_train, prefix='cnn_train_explore')\n",
    "HTML(display_videos('cnn_train_explore20.mp4'))"
   ]
  },
  {
   "cell_type": "code",
   "execution_count": null,
   "metadata": {},
   "outputs": [],
   "source": [
    "# Evaluation\n",
    "test(agent,env,epochs_test,prefix='cnn_test_explore')\n",
    "HTML(display_videos('cnn_test_explore20.mp4'))"
   ]
  },
  {
   "cell_type": "markdown",
   "metadata": {},
   "source": [
    "***\n",
    "***\n",
    "Now we can use the expert DQN from the previous question to generate some winning games. Train a model that mimicks its behavior. Compare the performances."
   ]
  },
  {
   "cell_type": "markdown",
   "metadata": {},
   "source": []
  },
  {
   "cell_type": "markdown",
   "metadata": {},
   "source": [
    "***"
   ]
  }
 ],
 "metadata": {
  "kernelspec": {
   "display_name": "Python 3",
   "language": "python",
   "name": "python3"
  },
  "language_info": {
   "codemirror_mode": {
    "name": "ipython",
    "version": 3
   },
   "file_extension": ".py",
   "mimetype": "text/x-python",
   "name": "python",
   "nbconvert_exporter": "python",
   "pygments_lexer": "ipython3",
   "version": "3.7.3"
  }
 },
 "nbformat": 4,
 "nbformat_minor": 2
}
